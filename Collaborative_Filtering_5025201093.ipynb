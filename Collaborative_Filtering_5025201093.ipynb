{
  "nbformat": 4,
  "nbformat_minor": 0,
  "metadata": {
    "colab": {
      "provenance": []
    },
    "kernelspec": {
      "name": "python3",
      "display_name": "Python 3"
    },
    "language_info": {
      "name": "python"
    }
  },
  "cells": [
    {
      "cell_type": "code",
      "execution_count": 3,
      "metadata": {
        "colab": {
          "base_uri": "https://localhost:8080/"
        },
        "id": "bvjvZCp2uQlA",
        "outputId": "ea626256-f6ae-4dc9-c871-bd474c12a6fb"
      },
      "outputs": [
        {
          "output_type": "stream",
          "name": "stdout",
          "text": [
            "Looking in indexes: https://pypi.org/simple, https://us-python.pkg.dev/colab-wheels/public/simple/\n",
            "Collecting pyspark\n",
            "  Downloading pyspark-3.4.0.tar.gz (310.8 MB)\n",
            "\u001b[2K     \u001b[90m━━━━━━━━━━━━━━━━━━━━━━━━━━━━━━━━━━━━━━━\u001b[0m \u001b[32m310.8/310.8 MB\u001b[0m \u001b[31m4.6 MB/s\u001b[0m eta \u001b[36m0:00:00\u001b[0m\n",
            "\u001b[?25h  Preparing metadata (setup.py) ... \u001b[?25l\u001b[?25hdone\n",
            "Requirement already satisfied: py4j==0.10.9.7 in /usr/local/lib/python3.9/dist-packages (from pyspark) (0.10.9.7)\n",
            "Building wheels for collected packages: pyspark\n",
            "  Building wheel for pyspark (setup.py) ... \u001b[?25l\u001b[?25hdone\n",
            "  Created wheel for pyspark: filename=pyspark-3.4.0-py2.py3-none-any.whl size=311317145 sha256=dcf50e60bf87361cd730acae35d617a6c0fb8930ddf872ddc9bf4301d3f3501c\n",
            "  Stored in directory: /root/.cache/pip/wheels/9f/34/a4/159aa12d0a510d5ff7c8f0220abbea42e5d81ecf588c4fd884\n",
            "Successfully built pyspark\n",
            "Installing collected packages: pyspark\n",
            "Successfully installed pyspark-3.4.0\n"
          ]
        }
      ],
      "source": [
        "!pip install pyspark"
      ]
    },
    {
      "cell_type": "code",
      "source": [
        "from pyspark.ml.evaluation import RegressionEvaluator\n",
        "from pyspark.ml.recommendation import ALS\n",
        "from pyspark.sql import Row, SparkSession"
      ],
      "metadata": {
        "id": "ZFZ0ZaNz87HC"
      },
      "execution_count": 4,
      "outputs": []
    },
    {
      "cell_type": "code",
      "source": [
        "spark = SparkSession.builder \\\n",
        "        .master(\"local\") \\\n",
        "        .appName(\"myApp\") \\\n",
        "        .config(\"spark.sql.session.timeZone\", \"UTC\") \\\n",
        "        .config(\"spark.sql.session.timeout\", \"48h\") \\\n",
        "        .getOrCreate()"
      ],
      "metadata": {
        "id": "Uuz14XBA873Y"
      },
      "execution_count": 5,
      "outputs": []
    },
    {
      "cell_type": "code",
      "source": [
        "lines = spark.read.text(\"./sample_data/sample_movielens_ratings.txt\").rdd\n",
        "parts = lines.map(lambda row: row.value.split(\"::\"))\n",
        "ratingsRDD = parts.map(lambda p: Row(userId=int(p[0]), movieId=int(p[1]),\n",
        "                                     rating=float(p[2]), timestamp=int(p[3])))\n",
        "ratings = spark.createDataFrame(ratingsRDD)\n",
        "(training, test) = ratings.randomSplit([0.8, 0.2])"
      ],
      "metadata": {
        "id": "yDTsqMuY9Y12"
      },
      "execution_count": 7,
      "outputs": []
    },
    {
      "cell_type": "code",
      "source": [
        "# maxIter and regParam values to be tested\n",
        "max_iters = [5, 10, 20]\n",
        "reg_params = [0.1, 0.5, 1.0]\n",
        "\n",
        "results = {}"
      ],
      "metadata": {
        "id": "nppICrdW92sk"
      },
      "execution_count": 8,
      "outputs": []
    },
    {
      "cell_type": "code",
      "source": [
        "# Loop for every maxIter and regParam value\n",
        "for max_iter in max_iters:\n",
        "    for reg_param in reg_params:\n",
        "        als = ALS(maxIter=max_iter, regParam=reg_param, userCol=\"userId\", itemCol=\"movieId\", ratingCol=\"rating\",\n",
        "                  coldStartStrategy=\"drop\")\n",
        "        model = als.fit(training)\n",
        "\n",
        "        predictions = model.transform(test)\n",
        "        evaluator = RegressionEvaluator(metricName=\"rmse\", labelCol=\"rating\",\n",
        "                                        predictionCol=\"prediction\")\n",
        "        rmse = evaluator.evaluate(predictions)\n",
        "\n",
        "        results[(max_iter, reg_param)] = rmse\n",
        "        print(f\"Root-mean-square error for maxIter={max_iter}, regParam={reg_param} = {rmse}\")"
      ],
      "metadata": {
        "id": "cDusonju-pO9",
        "colab": {
          "base_uri": "https://localhost:8080/"
        },
        "outputId": "b12bb31c-3bf1-491d-98d5-60cfa6b0a791"
      },
      "execution_count": 9,
      "outputs": [
        {
          "output_type": "stream",
          "name": "stdout",
          "text": [
            "Root-mean-square error for maxIter=5, regParam=0.1 = 0.9688205675431153\n",
            "Root-mean-square error for maxIter=5, regParam=0.5 = 1.1297708518341942\n",
            "Root-mean-square error for maxIter=5, regParam=1.0 = 1.3691869187312151\n",
            "Root-mean-square error for maxIter=10, regParam=0.1 = 0.9235508437296419\n",
            "Root-mean-square error for maxIter=10, regParam=0.5 = 1.128258748527846\n",
            "Root-mean-square error for maxIter=10, regParam=1.0 = 1.3691738236594744\n",
            "Root-mean-square error for maxIter=20, regParam=0.1 = 0.91753869584624\n",
            "Root-mean-square error for maxIter=20, regParam=0.5 = 1.1280810932816783\n",
            "Root-mean-square error for maxIter=20, regParam=1.0 = 1.3691738213469784\n"
          ]
        }
      ]
    },
    {
      "cell_type": "code",
      "source": [
        "# The less the RMSE value, the better\n",
        "best_params = min(results, key=results.get)\n",
        "best_rmse = results[best_params]\n",
        "print(f\"\\nBest hyperparameters: maxIter={best_params[0]}, regParam={best_params[1]} with RMSE={best_rmse}\")"
      ],
      "metadata": {
        "id": "0HEuBtu2-r08",
        "colab": {
          "base_uri": "https://localhost:8080/"
        },
        "outputId": "5e76f03b-35fc-426e-ef64-52e0cd805504"
      },
      "execution_count": 10,
      "outputs": [
        {
          "output_type": "stream",
          "name": "stdout",
          "text": [
            "\n",
            "Best hyperparameters: maxIter=20, regParam=0.1 with RMSE=0.91753869584624\n"
          ]
        }
      ]
    },
    {
      "cell_type": "code",
      "source": [
        "# Build the recommendation model using ALS on the training data with the best value for maxIter and regParam\n",
        "als = ALS(maxIter=best_params[0], regParam=best_params[1], userCol=\"userId\", itemCol=\"movieId\", ratingCol=\"rating\",\n",
        "               coldStartStrategy=\"drop\")\n",
        "model = als.fit(training)"
      ],
      "metadata": {
        "id": "-j4C6kLv-viQ"
      },
      "execution_count": 11,
      "outputs": []
    },
    {
      "cell_type": "code",
      "source": [
        "# Generate top 10 movie recommendations for each user\n",
        "userRecs = model.recommendForAllUsers(10)\n",
        "userRecs.show()"
      ],
      "metadata": {
        "id": "KVPnYcxE-ybh",
        "colab": {
          "base_uri": "https://localhost:8080/"
        },
        "outputId": "dfa8dc68-a3cd-4175-c89d-d6833e3a1b8c"
      },
      "execution_count": 12,
      "outputs": [
        {
          "output_type": "stream",
          "name": "stdout",
          "text": [
            "+------+--------------------+\n",
            "|userId|     recommendations|\n",
            "+------+--------------------+\n",
            "|    20|[{22, 3.450938}, ...|\n",
            "|    10|[{2, 3.2609217}, ...|\n",
            "|     0|[{92, 3.2232068},...|\n",
            "|     1|[{62, 3.134501}, ...|\n",
            "|    21|[{29, 4.0552034},...|\n",
            "|    11|[{27, 4.761196}, ...|\n",
            "|    12|[{55, 4.374193}, ...|\n",
            "|    22|[{75, 4.611357}, ...|\n",
            "|     2|[{93, 4.6672235},...|\n",
            "|    13|[{93, 3.3360484},...|\n",
            "|     3|[{51, 4.277628}, ...|\n",
            "|    23|[{32, 4.7151017},...|\n",
            "|     4|[{2, 3.3353186}, ...|\n",
            "|    24|[{69, 4.4623394},...|\n",
            "|    14|[{29, 4.540037}, ...|\n",
            "|     5|[{46, 4.235295}, ...|\n",
            "|    15|[{46, 3.8849373},...|\n",
            "|    25|[{47, 3.216118}, ...|\n",
            "|    26|[{88, 4.6131635},...|\n",
            "|     6|[{25, 4.015304}, ...|\n",
            "+------+--------------------+\n",
            "only showing top 20 rows\n",
            "\n"
          ]
        }
      ]
    },
    {
      "cell_type": "code",
      "source": [
        "# Generate top 10 user recommendations for each movie\n",
        "movieRecs = model.recommendForAllItems(10)\n",
        "movieRecs.show()"
      ],
      "metadata": {
        "id": "2ps3r3SF-0V7",
        "colab": {
          "base_uri": "https://localhost:8080/"
        },
        "outputId": "49a0ad22-b1c5-4c70-b603-ddef36c70752"
      },
      "execution_count": 13,
      "outputs": [
        {
          "output_type": "stream",
          "name": "stdout",
          "text": [
            "+-------+--------------------+\n",
            "|movieId|     recommendations|\n",
            "+-------+--------------------+\n",
            "|     20|[{17, 3.737557}, ...|\n",
            "|     40|[{2, 3.4441624}, ...|\n",
            "|     10|[{17, 3.5838134},...|\n",
            "|     50|[{23, 3.75266}, {...|\n",
            "|     80|[{11, 2.8122354},...|\n",
            "|     70|[{8, 3.1574395}, ...|\n",
            "|     60|[{8, 2.6789083}, ...|\n",
            "|     90|[{17, 4.612008}, ...|\n",
            "|     30|[{11, 4.652803}, ...|\n",
            "|      0|[{28, 2.365326}, ...|\n",
            "|     31|[{8, 2.7695265}, ...|\n",
            "|     81|[{28, 4.0993695},...|\n",
            "|     91|[{12, 2.7423503},...|\n",
            "|      1|[{25, 2.0068498},...|\n",
            "|     41|[{8, 3.4813125}, ...|\n",
            "|     61|[{6, 2.1295094}, ...|\n",
            "|     51|[{22, 4.5763817},...|\n",
            "|     21|[{22, 2.3358488},...|\n",
            "|     11|[{7, 1.4372313}, ...|\n",
            "|     71|[{25, 2.955316}, ...|\n",
            "+-------+--------------------+\n",
            "only showing top 20 rows\n",
            "\n"
          ]
        }
      ]
    },
    {
      "cell_type": "code",
      "source": [
        "# Generate top 10 movie recommendations for a specific set of users\n",
        "users = ratings.select(als.getUserCol()).distinct().limit(3)\n",
        "userSubsetRecs = model.recommendForUserSubset(users, 10)\n",
        "userSubsetRecs.show()"
      ],
      "metadata": {
        "id": "88Mo1ujf-4Rn",
        "colab": {
          "base_uri": "https://localhost:8080/"
        },
        "outputId": "c78a74a2-b2dd-4f00-b8c5-70e6a6219319"
      },
      "execution_count": 14,
      "outputs": [
        {
          "output_type": "stream",
          "name": "stdout",
          "text": [
            "+------+--------------------+\n",
            "|userId|     recommendations|\n",
            "+------+--------------------+\n",
            "|    26|[{88, 4.6131635},...|\n",
            "|    19|[{94, 3.33503}, {...|\n",
            "|    29|[{46, 4.4626}, {9...|\n",
            "+------+--------------------+\n",
            "\n"
          ]
        }
      ]
    },
    {
      "cell_type": "code",
      "source": [
        "# Generate top 10 user recommendations for a specific set of movies\n",
        "movies = ratings.select(als.getItemCol()).distinct().limit(3)\n",
        "movieSubSetRecs = model.recommendForItemSubset(movies, 10)\n",
        "movieSubSetRecs.show()"
      ],
      "metadata": {
        "id": "Zn8F4iDK-6dI",
        "colab": {
          "base_uri": "https://localhost:8080/"
        },
        "outputId": "30979a36-ff6e-4934-dfdf-ef52337861e9"
      },
      "execution_count": 15,
      "outputs": [
        {
          "output_type": "stream",
          "name": "stdout",
          "text": [
            "+-------+--------------------+\n",
            "|movieId|     recommendations|\n",
            "+-------+--------------------+\n",
            "|     65|[{23, 4.0775037},...|\n",
            "|     26|[{0, 2.1388037}, ...|\n",
            "|     29|[{8, 4.7866273}, ...|\n",
            "+-------+--------------------+\n",
            "\n"
          ]
        }
      ]
    },
    {
      "cell_type": "markdown",
      "source": [
        "**Conclusion**\n",
        "In conclusion, regarding the maxIter and regParam value, which value for each that made the lowest Root Mean Square Error (RMSE) value possible, the maxIter value of 20 and regParam value of 0.1 are the best values. "
      ],
      "metadata": {
        "id": "tMMSWWQcASL7"
      }
    }
  ]
}